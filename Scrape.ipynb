{
 "cells": [
  {
   "cell_type": "code",
   "execution_count": null,
   "id": "071c6133",
   "metadata": {},
   "outputs": [],
   "source": [
    "#establish libraries and site\n",
    "\n",
    "import requests\n",
    "from bs4 import BeautifulSoup\n",
    "import pandas as pd\n",
    "from datetime import datetime as dt\n",
    "\n",
    "#change the date as needed\n",
    "URL = \"https://www.house.gov/legislative-activity/2023-09-12\"\n",
    "page = requests.get(URL)\n",
    "\n",
    "soup = BeautifulSoup(page.content, \"html.parser\")\n",
    "#soup"
   ]
  },
  {
   "cell_type": "code",
   "execution_count": null,
   "id": "6087e9c0",
   "metadata": {},
   "outputs": [],
   "source": [
    "#establish and execute web scrape\n",
    "\n",
    "sessions = soup.find_all(\"div\", class_=\"session-item\")\n",
    "\n",
    "title = []\n",
    "time = []\n",
    "location = []\n",
    "host = []\n",
    "\n",
    "for s in range(0,len(sessions),1):\n",
    "    try:\n",
    "        title.append(sessions[s].find(\"div\",class_=\"views-field views-field-markup\").find(\"span\",class_=\"field-content\").text)\n",
    "        time.append(sessions[s].find_all(\"span\",class_=\"field-content\")[1].text)\n",
    "        location.append(sessions[s].find_all(\"span\",class_=\"field-content\")[2].text)\n",
    "        host.append(sessions[s].find_all(\"span\",class_=\"field-content\")[3].text)\n",
    "        \n",
    "        print(f\"{s+1}) {title[s]} | {time[s]} | {location[s]} | {host[s]}\")\n",
    "        \n",
    "    except:\n",
    "        print(\"Scrape Failure\")\n",
    "        \n",
    "print(\"-----------------------------\")        \n",
    "print(\"Scrape Completed\")\n",
    "print(\"-----------------------------\")"
   ]
  },
  {
   "cell_type": "code",
   "execution_count": null,
   "id": "5d5f47a1",
   "metadata": {},
   "outputs": [],
   "source": [
    "#tranfer scrape to dataframe\n",
    "\n",
    "list_trsf = {\n",
    "    \n",
    "    'Title': title,\n",
    "    'Time': time,\n",
    "    'Location': location,\n",
    "    'Host': host\n",
    "}\n",
    "\n",
    "committee_df = pd.DataFrame(data=list_trsf)\n",
    "\n",
    "committee_df"
   ]
  },
  {
   "cell_type": "code",
   "execution_count": null,
   "id": "c28c95a4",
   "metadata": {},
   "outputs": [],
   "source": [
    "#Export dataframe to Excel\n",
    "\n",
    "stamp = '%d%m%Y'\n",
    "dte = dt.now().strftime(stamp)\n",
    "fname = \"committee_{}.xlsx\".format(dte)\n",
    "committee_df.to_excel(fname, index=False)"
   ]
  },
  {
   "cell_type": "code",
   "execution_count": null,
   "id": "fe43c32f",
   "metadata": {},
   "outputs": [],
   "source": []
  }
 ],
 "metadata": {
  "kernelspec": {
   "display_name": "Python 3 (ipykernel)",
   "language": "python",
   "name": "python3"
  },
  "language_info": {
   "codemirror_mode": {
    "name": "ipython",
    "version": 3
   },
   "file_extension": ".py",
   "mimetype": "text/x-python",
   "name": "python",
   "nbconvert_exporter": "python",
   "pygments_lexer": "ipython3",
   "version": "3.11.4"
  }
 },
 "nbformat": 4,
 "nbformat_minor": 5
}
